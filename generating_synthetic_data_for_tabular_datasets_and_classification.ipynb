{
 "cells": [
  {
   "cell_type": "code",
   "execution_count": 1,
   "id": "ae505bbf-1022-4c84-83d7-c582f9c8b46f",
   "metadata": {},
   "outputs": [],
   "source": [
    "# author: Gorkem Saygili\n",
    "# under MIT License\n",
    "# Generating Synthetic Tabular Data for the Training of Classifiers (GSTD)\n",
    "\n",
    "from sklearn.datasets import load_breast_cancer\n",
    "from sklearn.model_selection import train_test_split\n",
    "from sklearn.preprocessing import StandardScaler\n",
    "from sklearn.feature_selection import SelectKBest, mutual_info_classif\n",
    "import pandas as pd\n",
    "import matplotlib.pyplot as plt\n",
    "import numpy as np\n",
    "from tqdm import tqdm\n",
    "from xgboost import XGBClassifier\n",
    "from sklearn.metrics import accuracy_score, classification_report, confusion_matrix, f1_score\n",
    "from sklearn.utils import shuffle\n",
    "from distfit import distfit"
   ]
  },
  {
   "cell_type": "code",
   "execution_count": 2,
   "id": "8c844121-6c9f-42be-a5eb-8252e60a37fb",
   "metadata": {},
   "outputs": [],
   "source": [
    "# load diabetes dataset\n",
    "diabetes = load_breast_cancer()"
   ]
  },
  {
   "cell_type": "code",
   "execution_count": 3,
   "id": "27d32f1b-6da1-480f-a7fa-266446afc7fa",
   "metadata": {},
   "outputs": [],
   "source": [
    "# convert to dataframe\n",
    "data = pd.DataFrame(data=diabetes.data, columns=diabetes.feature_names)\n",
    "data['target'] = diabetes.target"
   ]
  },
  {
   "cell_type": "code",
   "execution_count": 4,
   "id": "f88583c4-9aad-4c4d-b933-f55a64a9d7f8",
   "metadata": {},
   "outputs": [
    {
     "name": "stdout",
     "output_type": "stream",
     "text": [
      "<class 'pandas.core.frame.DataFrame'>\n",
      "RangeIndex: 569 entries, 0 to 568\n",
      "Data columns (total 31 columns):\n",
      " #   Column                   Non-Null Count  Dtype  \n",
      "---  ------                   --------------  -----  \n",
      " 0   mean radius              569 non-null    float64\n",
      " 1   mean texture             569 non-null    float64\n",
      " 2   mean perimeter           569 non-null    float64\n",
      " 3   mean area                569 non-null    float64\n",
      " 4   mean smoothness          569 non-null    float64\n",
      " 5   mean compactness         569 non-null    float64\n",
      " 6   mean concavity           569 non-null    float64\n",
      " 7   mean concave points      569 non-null    float64\n",
      " 8   mean symmetry            569 non-null    float64\n",
      " 9   mean fractal dimension   569 non-null    float64\n",
      " 10  radius error             569 non-null    float64\n",
      " 11  texture error            569 non-null    float64\n",
      " 12  perimeter error          569 non-null    float64\n",
      " 13  area error               569 non-null    float64\n",
      " 14  smoothness error         569 non-null    float64\n",
      " 15  compactness error        569 non-null    float64\n",
      " 16  concavity error          569 non-null    float64\n",
      " 17  concave points error     569 non-null    float64\n",
      " 18  symmetry error           569 non-null    float64\n",
      " 19  fractal dimension error  569 non-null    float64\n",
      " 20  worst radius             569 non-null    float64\n",
      " 21  worst texture            569 non-null    float64\n",
      " 22  worst perimeter          569 non-null    float64\n",
      " 23  worst area               569 non-null    float64\n",
      " 24  worst smoothness         569 non-null    float64\n",
      " 25  worst compactness        569 non-null    float64\n",
      " 26  worst concavity          569 non-null    float64\n",
      " 27  worst concave points     569 non-null    float64\n",
      " 28  worst symmetry           569 non-null    float64\n",
      " 29  worst fractal dimension  569 non-null    float64\n",
      " 30  target                   569 non-null    int64  \n",
      "dtypes: float64(30), int64(1)\n",
      "memory usage: 137.9 KB\n",
      "None\n"
     ]
    }
   ],
   "source": [
    "# data exploration\n",
    "print(data.info())"
   ]
  },
  {
   "cell_type": "code",
   "execution_count": 5,
   "id": "9e8aa608-ad43-4b28-b540-36b0937acddd",
   "metadata": {},
   "outputs": [
    {
     "data": {
      "text/html": [
       "<div>\n",
       "<style scoped>\n",
       "    .dataframe tbody tr th:only-of-type {\n",
       "        vertical-align: middle;\n",
       "    }\n",
       "\n",
       "    .dataframe tbody tr th {\n",
       "        vertical-align: top;\n",
       "    }\n",
       "\n",
       "    .dataframe thead th {\n",
       "        text-align: right;\n",
       "    }\n",
       "</style>\n",
       "<table border=\"1\" class=\"dataframe\">\n",
       "  <thead>\n",
       "    <tr style=\"text-align: right;\">\n",
       "      <th></th>\n",
       "      <th>mean radius</th>\n",
       "      <th>mean texture</th>\n",
       "      <th>mean perimeter</th>\n",
       "      <th>mean area</th>\n",
       "      <th>mean smoothness</th>\n",
       "      <th>mean compactness</th>\n",
       "      <th>mean concavity</th>\n",
       "      <th>mean concave points</th>\n",
       "      <th>mean symmetry</th>\n",
       "      <th>mean fractal dimension</th>\n",
       "      <th>...</th>\n",
       "      <th>worst texture</th>\n",
       "      <th>worst perimeter</th>\n",
       "      <th>worst area</th>\n",
       "      <th>worst smoothness</th>\n",
       "      <th>worst compactness</th>\n",
       "      <th>worst concavity</th>\n",
       "      <th>worst concave points</th>\n",
       "      <th>worst symmetry</th>\n",
       "      <th>worst fractal dimension</th>\n",
       "      <th>target</th>\n",
       "    </tr>\n",
       "  </thead>\n",
       "  <tbody>\n",
       "    <tr>\n",
       "      <th>0</th>\n",
       "      <td>17.99</td>\n",
       "      <td>10.38</td>\n",
       "      <td>122.80</td>\n",
       "      <td>1001.0</td>\n",
       "      <td>0.11840</td>\n",
       "      <td>0.27760</td>\n",
       "      <td>0.3001</td>\n",
       "      <td>0.14710</td>\n",
       "      <td>0.2419</td>\n",
       "      <td>0.07871</td>\n",
       "      <td>...</td>\n",
       "      <td>17.33</td>\n",
       "      <td>184.60</td>\n",
       "      <td>2019.0</td>\n",
       "      <td>0.1622</td>\n",
       "      <td>0.6656</td>\n",
       "      <td>0.7119</td>\n",
       "      <td>0.2654</td>\n",
       "      <td>0.4601</td>\n",
       "      <td>0.11890</td>\n",
       "      <td>0</td>\n",
       "    </tr>\n",
       "    <tr>\n",
       "      <th>1</th>\n",
       "      <td>20.57</td>\n",
       "      <td>17.77</td>\n",
       "      <td>132.90</td>\n",
       "      <td>1326.0</td>\n",
       "      <td>0.08474</td>\n",
       "      <td>0.07864</td>\n",
       "      <td>0.0869</td>\n",
       "      <td>0.07017</td>\n",
       "      <td>0.1812</td>\n",
       "      <td>0.05667</td>\n",
       "      <td>...</td>\n",
       "      <td>23.41</td>\n",
       "      <td>158.80</td>\n",
       "      <td>1956.0</td>\n",
       "      <td>0.1238</td>\n",
       "      <td>0.1866</td>\n",
       "      <td>0.2416</td>\n",
       "      <td>0.1860</td>\n",
       "      <td>0.2750</td>\n",
       "      <td>0.08902</td>\n",
       "      <td>0</td>\n",
       "    </tr>\n",
       "    <tr>\n",
       "      <th>2</th>\n",
       "      <td>19.69</td>\n",
       "      <td>21.25</td>\n",
       "      <td>130.00</td>\n",
       "      <td>1203.0</td>\n",
       "      <td>0.10960</td>\n",
       "      <td>0.15990</td>\n",
       "      <td>0.1974</td>\n",
       "      <td>0.12790</td>\n",
       "      <td>0.2069</td>\n",
       "      <td>0.05999</td>\n",
       "      <td>...</td>\n",
       "      <td>25.53</td>\n",
       "      <td>152.50</td>\n",
       "      <td>1709.0</td>\n",
       "      <td>0.1444</td>\n",
       "      <td>0.4245</td>\n",
       "      <td>0.4504</td>\n",
       "      <td>0.2430</td>\n",
       "      <td>0.3613</td>\n",
       "      <td>0.08758</td>\n",
       "      <td>0</td>\n",
       "    </tr>\n",
       "    <tr>\n",
       "      <th>3</th>\n",
       "      <td>11.42</td>\n",
       "      <td>20.38</td>\n",
       "      <td>77.58</td>\n",
       "      <td>386.1</td>\n",
       "      <td>0.14250</td>\n",
       "      <td>0.28390</td>\n",
       "      <td>0.2414</td>\n",
       "      <td>0.10520</td>\n",
       "      <td>0.2597</td>\n",
       "      <td>0.09744</td>\n",
       "      <td>...</td>\n",
       "      <td>26.50</td>\n",
       "      <td>98.87</td>\n",
       "      <td>567.7</td>\n",
       "      <td>0.2098</td>\n",
       "      <td>0.8663</td>\n",
       "      <td>0.6869</td>\n",
       "      <td>0.2575</td>\n",
       "      <td>0.6638</td>\n",
       "      <td>0.17300</td>\n",
       "      <td>0</td>\n",
       "    </tr>\n",
       "    <tr>\n",
       "      <th>4</th>\n",
       "      <td>20.29</td>\n",
       "      <td>14.34</td>\n",
       "      <td>135.10</td>\n",
       "      <td>1297.0</td>\n",
       "      <td>0.10030</td>\n",
       "      <td>0.13280</td>\n",
       "      <td>0.1980</td>\n",
       "      <td>0.10430</td>\n",
       "      <td>0.1809</td>\n",
       "      <td>0.05883</td>\n",
       "      <td>...</td>\n",
       "      <td>16.67</td>\n",
       "      <td>152.20</td>\n",
       "      <td>1575.0</td>\n",
       "      <td>0.1374</td>\n",
       "      <td>0.2050</td>\n",
       "      <td>0.4000</td>\n",
       "      <td>0.1625</td>\n",
       "      <td>0.2364</td>\n",
       "      <td>0.07678</td>\n",
       "      <td>0</td>\n",
       "    </tr>\n",
       "  </tbody>\n",
       "</table>\n",
       "<p>5 rows × 31 columns</p>\n",
       "</div>"
      ],
      "text/plain": [
       "   mean radius  mean texture  mean perimeter  mean area  mean smoothness  \\\n",
       "0        17.99         10.38          122.80     1001.0          0.11840   \n",
       "1        20.57         17.77          132.90     1326.0          0.08474   \n",
       "2        19.69         21.25          130.00     1203.0          0.10960   \n",
       "3        11.42         20.38           77.58      386.1          0.14250   \n",
       "4        20.29         14.34          135.10     1297.0          0.10030   \n",
       "\n",
       "   mean compactness  mean concavity  mean concave points  mean symmetry  \\\n",
       "0           0.27760          0.3001              0.14710         0.2419   \n",
       "1           0.07864          0.0869              0.07017         0.1812   \n",
       "2           0.15990          0.1974              0.12790         0.2069   \n",
       "3           0.28390          0.2414              0.10520         0.2597   \n",
       "4           0.13280          0.1980              0.10430         0.1809   \n",
       "\n",
       "   mean fractal dimension  ...  worst texture  worst perimeter  worst area  \\\n",
       "0                 0.07871  ...          17.33           184.60      2019.0   \n",
       "1                 0.05667  ...          23.41           158.80      1956.0   \n",
       "2                 0.05999  ...          25.53           152.50      1709.0   \n",
       "3                 0.09744  ...          26.50            98.87       567.7   \n",
       "4                 0.05883  ...          16.67           152.20      1575.0   \n",
       "\n",
       "   worst smoothness  worst compactness  worst concavity  worst concave points  \\\n",
       "0            0.1622             0.6656           0.7119                0.2654   \n",
       "1            0.1238             0.1866           0.2416                0.1860   \n",
       "2            0.1444             0.4245           0.4504                0.2430   \n",
       "3            0.2098             0.8663           0.6869                0.2575   \n",
       "4            0.1374             0.2050           0.4000                0.1625   \n",
       "\n",
       "   worst symmetry  worst fractal dimension  target  \n",
       "0          0.4601                  0.11890       0  \n",
       "1          0.2750                  0.08902       0  \n",
       "2          0.3613                  0.08758       0  \n",
       "3          0.6638                  0.17300       0  \n",
       "4          0.2364                  0.07678       0  \n",
       "\n",
       "[5 rows x 31 columns]"
      ]
     },
     "execution_count": 5,
     "metadata": {},
     "output_type": "execute_result"
    }
   ],
   "source": [
    "data.head()"
   ]
  },
  {
   "cell_type": "code",
   "execution_count": 6,
   "id": "07258b62-9d06-45c5-bd48-e8dbfdfdb177",
   "metadata": {},
   "outputs": [],
   "source": [
    "# train-test split (stratified)\n",
    "X_data = data.drop(columns=['target']).to_numpy()   \n",
    "y_data = data['target'].to_numpy()                 \n",
    "labels = np.unique(y_data)\n",
    "\n",
    "X_train, X_test, y_train, y_test = train_test_split(X_data, y_data, test_size=0.2, random_state=42, stratify=y_data)\n",
    "\n",
    "\n",
    "\n",
    "scaler = StandardScaler()\n",
    "X_train_std = scaler.fit_transform(X_train)\n",
    "X_test_std  = scaler.transform(X_test)\n",
    "\n",
    "# use feature selection based on simple mutual information\n",
    "ndim = 10 \n",
    "selector = SelectKBest(score_func=mutual_info_classif, k=ndim)  # pick top 10 features\n",
    "X_train_sel = selector.fit_transform(X_train_std, y_train)\n",
    "X_test_sel  = selector.transform(X_test_std)\n",
    "\n",
    "\n"
   ]
  },
  {
   "cell_type": "code",
   "execution_count": 7,
   "id": "33ccf5e2-41cd-4701-8036-ce28bea5c9f3",
   "metadata": {},
   "outputs": [
    {
     "data": {
      "image/png": "[encoded data removed]",
      "text/plain": [
       "<Figure size 640x480 with 1 Axes>"
      ]
     },
     "metadata": {},
     "output_type": "display_data"
    }
   ],
   "source": [
    "# Plot value counts\n",
    "plt.hist(data[data['target'] == 0]['target'], bins=[-0.5, 0.5, 1.5], color='green', rwidth=0.8, label='No')\n",
    "plt.hist(data[data['target'] == 1]['target'], bins=[-0.5, 0.5, 1.5], color='red', rwidth=0.8, label='Yes')\n",
    "plt.xlabel('Breast Cancer')\n",
    "plt.ylabel('Count')\n",
    "plt.title('Histogram of Labels')\n",
    "plt.xticks([0, 1], ['No', 'Yes'])\n",
    "plt.legend()\n",
    "plt.show()\n"
   ]
  },
  {
   "cell_type": "code",
   "execution_count": 8,
   "id": "4a610fcc-8abb-4132-8015-9a785ee26ffd",
   "metadata": {},
   "outputs": [],
   "source": [
    "def generate_feat(feat, num_samples=200):\n",
    "    X = np.zeros((num_samples, feat.shape[1]), dtype='float64')\n",
    "    for j in tqdm(range(feat.shape[1]), desc=\"data gen. for each feat...\"):\n",
    "        dfit = distfit(distr='popular', n_boots=100, verbose=0)\n",
    "        dfit.fit_transform(feat[:,j])\n",
    "        X[:,j] = dfit.generate(num_samples)\n",
    "    return X\n",
    "    "
   ]
  },
  {
   "cell_type": "code",
   "execution_count": 9,
   "id": "2878c769-fafb-44ec-a33d-911cb8976ef3",
   "metadata": {},
   "outputs": [
    {
     "name": "stderr",
     "output_type": "stream",
     "text": [
      "overall process...:   0%|          | 0/2 [00:00<?, ?it/s]"
     ]
    },
    {
     "name": "stdout",
     "output_type": "stream",
     "text": [
      "label 0\n"
     ]
    },
    {
     "name": "stderr",
     "output_type": "stream",
     "text": [
      "\n",
      "data gen. for each feat...:   0%|          | 0/10 [00:00<?, ?it/s]\u001b[A\n",
      "data gen. for each feat...:  10%|█         | 1/10 [00:21<03:10, 21.16s/it]\u001b[A\n",
      "data gen. for each feat...:  20%|██        | 2/10 [00:40<02:40, 20.00s/it]\u001b[A\n",
      "data gen. for each feat...:  30%|███       | 3/10 [00:58<02:13, 19.09s/it]\u001b[A\n",
      "data gen. for each feat...:  40%|████      | 4/10 [01:16<01:51, 18.58s/it]\u001b[A\n",
      "data gen. for each feat...:  50%|█████     | 5/10 [01:34<01:32, 18.55s/it]\u001b[A\n",
      "data gen. for each feat...:  60%|██████    | 6/10 [01:55<01:17, 19.27s/it]\u001b[A\n",
      "data gen. for each feat...:  70%|███████   | 7/10 [02:14<00:58, 19.36s/it]\u001b[A\n",
      "data gen. for each feat...:  80%|████████  | 8/10 [02:34<00:38, 19.48s/it]\u001b[A\n",
      "data gen. for each feat...:  90%|█████████ | 9/10 [02:53<00:19, 19.17s/it]\u001b[A\n",
      "data gen. for each feat...: 100%|██████████| 10/10 [03:18<00:00, 19.82s/it]\u001b[A\n",
      "overall process...:  50%|█████     | 1/2 [03:18<03:18, 198.23s/it]"
     ]
    },
    {
     "name": "stdout",
     "output_type": "stream",
     "text": [
      "label 1\n"
     ]
    },
    {
     "name": "stderr",
     "output_type": "stream",
     "text": [
      "\n",
      "data gen. for each feat...:   0%|          | 0/10 [00:00<?, ?it/s]\u001b[A\n",
      "data gen. for each feat...:  10%|█         | 1/10 [00:26<04:01, 26.86s/it]\u001b[A\n",
      "data gen. for each feat...:  20%|██        | 2/10 [00:56<03:48, 28.51s/it]\u001b[A\n",
      "data gen. for each feat...:  30%|███       | 3/10 [01:21<03:07, 26.73s/it]\u001b[A\n",
      "data gen. for each feat...:  40%|████      | 4/10 [01:47<02:39, 26.61s/it]\u001b[A\n",
      "data gen. for each feat...:  50%|█████     | 5/10 [02:09<02:04, 24.89s/it]\u001b[A\n",
      "data gen. for each feat...:  60%|██████    | 6/10 [02:33<01:38, 24.58s/it]\u001b[A\n",
      "data gen. for each feat...:  70%|███████   | 7/10 [03:01<01:17, 25.79s/it]\u001b[A\n",
      "data gen. for each feat...:  80%|████████  | 8/10 [03:27<00:51, 25.67s/it]\u001b[A\n",
      "data gen. for each feat...:  90%|█████████ | 9/10 [03:48<00:24, 24.40s/it]\u001b[A\n",
      "data gen. for each feat...: 100%|██████████| 10/10 [04:12<00:00, 25.24s/it]\u001b[A\n",
      "overall process...: 100%|██████████| 2/2 [07:30<00:00, 225.33s/it]\n"
     ]
    }
   ],
   "source": [
    "# group data based on labels separately to generate synthetic data for each group\n",
    "num_samples_per_class = 200\n",
    "num_samples = num_samples_per_class * len(labels)\n",
    "X_synt = np.zeros((num_samples, X_train_sel.shape[1]), dtype='float64')\n",
    "y_synt = np.zeros((num_samples,), dtype='int64')\n",
    "start = 0\n",
    "for label in tqdm(labels, desc=\"overall process...\"):\n",
    "    print(\"label\", label)\n",
    "    X = X_train_sel[y_train == label]\n",
    "    X_synt[start:start + num_samples_per_class, :] = generate_feat(X, num_samples_per_class)\n",
    "    y_synt[start:start + num_samples_per_class] = label\n",
    "    start += num_samples_per_class\n",
    "    "
   ]
  },
  {
   "cell_type": "code",
   "execution_count": 10,
   "id": "99ac0a60-9144-408f-bf6e-af06d4e975d5",
   "metadata": {},
   "outputs": [
    {
     "name": "stdout",
     "output_type": "stream",
     "text": [
      "Accuracy: 0.9649\n",
      "F1 (macro): 0.9623\n",
      "Confusion Matrix:\n",
      "[[40  2]\n",
      " [ 2 70]]\n"
     ]
    }
   ],
   "source": [
    "# classifing using XGBoost on real data with default hyperparameters\n",
    "model = XGBClassifier(random_state=42)\n",
    "model.fit(X_train_sel, y_train)\n",
    "y_pred = model.predict(X_test_sel)\n",
    "acc = accuracy_score(y_test, y_pred)\n",
    "f1_macro = f1_score(y_test, y_pred, average='macro')\n",
    "print(f\"Accuracy: {acc:.4f}\")\n",
    "print(f\"F1 (macro): {f1_macro:.4f}\")\n",
    "print(\"Confusion Matrix:\")\n",
    "print(confusion_matrix(y_test, y_pred))"
   ]
  },
  {
   "cell_type": "code",
   "execution_count": 11,
   "id": "02edd41e-0670-4013-a414-e0002582bfe0",
   "metadata": {},
   "outputs": [
    {
     "name": "stdout",
     "output_type": "stream",
     "text": [
      "Accuracy: 0.9035\n",
      "F1 (macro): 0.8994\n",
      "Confusion Matrix:\n",
      "[[40  2]\n",
      " [ 9 63]]\n"
     ]
    }
   ],
   "source": [
    "# let's use our synthetic data\n",
    "X_synt, y_synt = shuffle(X_synt, y_synt, random_state=42)\n",
    "model = XGBClassifier(random_state=42)\n",
    "model.fit(X_synt, y_synt)\n",
    "y_pred = model.predict(X_test_sel)\n",
    "acc = accuracy_score(y_test, y_pred)\n",
    "f1_macro = f1_score(y_test, y_pred, average='macro')\n",
    "print(f\"Accuracy: {acc:.4f}\")\n",
    "print(f\"F1 (macro): {f1_macro:.4f}\")\n",
    "print(\"Confusion Matrix:\")\n",
    "print(confusion_matrix(y_test, y_pred))"
   ]
  }
 ],
 "metadata": {
  "kernelspec": {
   "display_name": "Python 3 (ipykernel)",
   "language": "python",
   "name": "python3"
  },
  "language_info": {
   "codemirror_mode": {
    "name": "ipython",
    "version": 3
   },
   "file_extension": ".py",
   "mimetype": "text/x-python",
   "name": "python",
   "nbconvert_exporter": "python",
   "pygments_lexer": "ipython3",
   "version": "3.10.19"
  }
 },
 "nbformat": 4,
 "nbformat_minor": 5
}
